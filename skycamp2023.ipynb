{
 "cells": [
  {
   "cell_type": "markdown",
   "metadata": {},
   "source": [
    "<img src=\"docs/images/DSPy8.png\" alt=\"DSPy7 Image\" height=\"150\"/>\n",
    "\n",
    "# DSPy: Tutorial @ SkyCamp"
   ]
  },
  {
   "cell_type": "markdown",
   "metadata": {},
   "source": [
    "This notebook contains the **DSPy tutorial** for **SkyCamp 2023**.\n",
    "\n",
    "Let's begin by setting things up. The snippet below will also install **DSPy** if it's not there already."
   ]
  },
  {
   "cell_type": "code",
   "execution_count": null,
   "metadata": {},
   "outputs": [],
   "source": [
    "%load_ext autoreload\n",
    "%autoreload 2\n",
    "\n",
    "import sys\n",
    "import os\n",
    "\n",
    "try: # When on google Colab, let's clone the notebook so we download the cache.\n",
    "    import google.colab\n",
    "    repo_path = 'dspy'\n",
    "    !git -C $repo_path pull origin || git clone https://github.com/stanfordnlp/dspy $repo_path\n",
    "except:\n",
    "    repo_path = '.'\n",
    "\n",
    "if repo_path not in sys.path:\n",
    "    sys.path.append(repo_path)\n",
    "\n",
    "# Set up the cache for this notebook\n",
    "os.environ[\"DSP_NOTEBOOK_CACHEDIR\"] = os.path.join(repo_path, 'cache')\n",
    "\n",
    "import pkg_resources # Install the package if it's not installed\n",
    "if not \"dspy-ai\" in {pkg.key for pkg in pkg_resources.working_set}:\n",
    "    !pip install -U pip\n",
    "    # !pip install dspy-ai\n",
    "    !pip install -e $repo_path\n",
    "\n",
    "!pip install transformers"
   ]
  },
  {
   "cell_type": "code",
   "execution_count": null,
   "metadata": {},
   "outputs": [],
   "source": [
    "import dspy\n",
    "from dspy.evaluate import Evaluate\n",
    "from dspy.teleprompt import BootstrapFewShot, BootstrapFewShotWithRandomSearch, BootstrapFinetune\n",
    "\n",
    "import os\n",
    "from dotenv import load_dotenv, find_dotenv\n",
    "\n",
    "load_dotenv(find_dotenv())"
   ]
  },
  {
   "cell_type": "markdown",
   "metadata": {},
   "source": [
    "### 1) Configure the default LM and retriever\n",
    "\n",
    "We'll start by setting up the language model (LM) and retrieval model (RM). **DSPy** supports multiple API and local models.\n",
    "\n",
    "In this notebook, we will use `Llama2-13b-chat` using the HuggingFace TGI serving software infrastructure. In principle you can run this on your own local GPUs, but for this tutorial all examples are pre-cached so you don't need to worry about cost.\n",
    "\n",
    "We will use the retriever `ColBERTv2`. To make things easy, we've set up a ColBERTv2 server hosting a Wikipedia 2017 \"abstracts\" search index (i.e., containing first paragraph of each article from this [2017 dump](https://hotpotqa.github.io/wiki-readme.html)), so you don't need to worry about setting one up! It's free.\n",
    "\n",
    "**Note:** _If you run this notebook as instructed, you don't need an API key. All examples are already cached internally so you can inspect them!_"
   ]
  },
  {
   "cell_type": "code",
   "execution_count": null,
   "metadata": {},
   "outputs": [],
   "source": [
    "turbo = dspy.OpenAI(\n",
    "    model='gpt-3.5-turbo-0125',\n",
    "    api_key=os.getenv('OPENAI_API_KEY'),\n",
    ")\n",
    "colbertv2 = dspy.ColBERTv2(url='http://20.102.90.50:2017/wiki17_abstracts')\n",
    "\n",
    "# # NOTE: After you finish this notebook, you can use GPT-3.5 like this if you like.\n",
    "# # In that case, make sure to configure lm=turbo below if you choose to do that.\n",
    "\n",
    "dspy.settings.configure(rm=colbertv2, lm=turbo)\n",
    "\n",
    "# import openai\n",
    "\n",
    "# client = openai.OpenAI(\n",
    "#     api_key=os.getenv('OPENAI_API_KEY'),\n",
    "# )\n",
    "\n",
    "# completion = client.chat.completions.create(\n",
    "#     model=\"gpt-3.5-turbo-0125\",\n",
    "#     messages=[\n",
    "#         {\"role\": \"user\", \"content\": \"Given the fields `question`, produce the fields `answer`.\\n\\n---\\n\\nFollow the following format.\\n\\nQuestion: ${question}\\nReasoning: Let's think step by step in order to ${produce the answer}. We ...\\nAnswer: ${answer}\\n\\n---\\n\\nQuestion: What is the capital of Paris?\\nReasoning: Let's think step by step in order to\"},\n",
    "#     ],\n",
    "#     temperature=0,\n",
    "# )\n",
    "# completion"
   ]
  },
  {
   "cell_type": "code",
   "execution_count": null,
   "metadata": {},
   "outputs": [],
   "source": [
    "#Example DSPy CoT QA program\n",
    "qa = dspy.ChainOfThought('question -> answer')\n",
    "\n",
    "response = qa(question=\"What is the capital of Paris?\")\n",
    "print(response.answer)"
   ]
  },
  {
   "cell_type": "markdown",
   "metadata": {},
   "source": [
    "### 2) Create a few question–answer pairs for our task"
   ]
  },
  {
   "cell_type": "code",
   "execution_count": null,
   "metadata": {},
   "outputs": [],
   "source": [
    "train = [('Who was the director of the 2009 movie featuring Peter Outerbridge as William Easton?', 'Kevin Greutert'),\n",
    "         ('The heir to the Du Pont family fortune sponsored what wrestling team?', 'Foxcatcher'),\n",
    "         ('In what year was the star of To Hell and Back born?', '1925'),\n",
    "         ('Which award did the first book of Gary Zukav receive?', 'U.S. National Book Award'),\n",
    "         ('What documentary about the Gilgo Beach Killer debuted on A&E?', 'The Killing Season'),\n",
    "         ('Which author is English: John Braine or Studs Terkel?', 'John Braine'),\n",
    "         ('Who produced the album that included a re-recording of \"Lithium\"?', 'Butch Vig')]\n",
    "\n",
    "train = [dspy.Example(question=question, answer=answer).with_inputs('question') for question, answer in train]"
   ]
  },
  {
   "cell_type": "code",
   "execution_count": null,
   "metadata": {},
   "outputs": [],
   "source": [
    "dev = [('Who has a broader scope of profession: E. L. Doctorow or Julia Peterkin?', 'E. L. Doctorow'),\n",
    "       ('Right Back At It Again contains lyrics co-written by the singer born in what city?', 'Gainesville, Florida'),\n",
    "       ('What year was the party of the winner of the 1971 San Francisco mayoral election founded?', '1828'),\n",
    "       ('Anthony Dirrell is the brother of which super middleweight title holder?', 'Andre Dirrell'),\n",
    "       ('The sports nutrition business established by Oliver Cookson is based in which county in the UK?', 'Cheshire'),\n",
    "       ('Find the birth date of the actor who played roles in First Wives Club and Searching for the Elephant.', 'February 13, 1980'),\n",
    "       ('Kyle Moran was born in the town on what river?', 'Castletown River'),\n",
    "       (\"The actress who played the niece in the Priest film was born in what city, country?\", 'Surrey, England'),\n",
    "       ('Name the movie in which the daughter of Noel Harrison plays Violet Trefusis.', 'Portrait of a Marriage'),\n",
    "       ('What year was the father of the Princes in the Tower born?', '1442'),\n",
    "       ('What river is near the Crichton Collegiate Church?', 'the River Tyne'),\n",
    "       ('Who purchased the team Michael Schumacher raced for in the 1995 Monaco Grand Prix in 2000?', 'Renault'),\n",
    "       ('André Zucca was a French photographer who worked with a German propaganda magazine published by what Nazi organization?', 'the Wehrmacht')]\n",
    "\n",
    "dev = [dspy.Example(question=question, answer=answer).with_inputs('question') for question, answer in dev]"
   ]
  },
  {
   "cell_type": "markdown",
   "metadata": {},
   "source": [
    "### 3) Key Concepts: Signatures & Modules"
   ]
  },
  {
   "cell_type": "code",
   "execution_count": null,
   "metadata": {},
   "outputs": [],
   "source": [
    "# Define a dspy.Predict module with the signature `question -> answer` (i.e., takes a question and outputs an answer).\n",
    "predict = dspy.Predict('question -> answer')\n",
    "\n",
    "# Use the module!\n",
    "predict(question=\"What is the capital of Germany?\")"
   ]
  },
  {
   "cell_type": "markdown",
   "metadata": {},
   "source": [
    "In the example above, we used the `dspy.Predict` module **zero-shot**, i.e. without compiling it on any examples.\n",
    "\n",
    "Let's now build a slightly more advanced program. Our program will use the `dspy.ChainOfThought` module, which asks the LM to think step by step.\n",
    "\n",
    "We will call this program `CoT`."
   ]
  },
  {
   "cell_type": "code",
   "execution_count": null,
   "metadata": {},
   "outputs": [],
   "source": [
    "class CoT(dspy.Module):  # let's define a new module\n",
    "    def __init__(self):\n",
    "        super().__init__()\n",
    "\n",
    "        # here we declare the chain of thought sub-module, so we can later compile it (e.g., teach it a prompt)\n",
    "        self.generate_answer = dspy.ChainOfThought('question -> answer')\n",
    "\n",
    "    def forward(self, question):\n",
    "        return self.generate_answer(question=question)  # here we use the module"
   ]
  },
  {
   "cell_type": "markdown",
   "metadata": {},
   "source": [
    "Now let's compile this using our six `train` examples. We will use the very simple `BootstrapFewShot` in DSPy."
   ]
  },
  {
   "cell_type": "code",
   "execution_count": null,
   "metadata": {},
   "outputs": [],
   "source": [
    "metric_EM = dspy.evaluate.answer_exact_match\n",
    "\n",
    "teleprompter = BootstrapFewShot(metric=metric_EM, max_bootstrapped_demos=4)\n",
    "cot_compiled = teleprompter.compile(CoT(), trainset=train)"
   ]
  },
  {
   "cell_type": "markdown",
   "metadata": {},
   "source": [
    "Let's ask a question to this new program."
   ]
  },
  {
   "cell_type": "code",
   "execution_count": null,
   "metadata": {},
   "outputs": [],
   "source": [
    "cot_compiled(\"What is the capital of Germany?\")"
   ]
  },
  {
   "cell_type": "markdown",
   "metadata": {},
   "source": [
    "You might be curious what's happening under the hood. Let's inspect the last call to our Llama LM to see the prompt and the output."
   ]
  },
  {
   "cell_type": "code",
   "execution_count": null,
   "metadata": {},
   "outputs": [],
   "source": [
    "turbo.inspect_history(n=1)"
   ]
  },
  {
   "cell_type": "markdown",
   "metadata": {},
   "source": [
    "Notice how the prompt ends with the question we asked (\"What is the capital of Germany?\"), but before that it includes few-shot examples.\n",
    "\n",
    "The final example in the prompt contains a rationale (step-by-step reasoning) self-generated from the LM for use as a demonstration, for the training question \"Which author is English: John Braine or Studs Terkel?\".\n",
    "\n",
    "Now, let's evaluate on our development set."
   ]
  },
  {
   "cell_type": "code",
   "execution_count": null,
   "metadata": {},
   "outputs": [],
   "source": [
    "NUM_THREADS = 32\n",
    "evaluate_hotpot = Evaluate(devset=dev, metric=metric_EM, num_threads=NUM_THREADS, display_progress=True, display_table=15)"
   ]
  },
  {
   "cell_type": "markdown",
   "metadata": {},
   "source": [
    "First, let's evaluate the compiled `CoT` program with Llama. Feel free to replace `cot_compiled` below with `CoT()` (notice the paranthesis) to test the zero-shot version of CoT."
   ]
  },
  {
   "cell_type": "code",
   "execution_count": 32,
   "metadata": {},
   "outputs": [
    {
     "name": "stderr",
     "output_type": "stream",
     "text": [
      "Average Metric: 6 / 13  (46.2): 100%|██████████| 13/13 [00:00<00:00, 3387.76it/s]"
     ]
    },
    {
     "name": "stdout",
     "output_type": "stream",
     "text": [
      "Average Metric: 6 / 13  (46.2%)\n"
     ]
    },
    {
     "name": "stderr",
     "output_type": "stream",
     "text": [
      "\n",
      "/Users/byin/Documents/GitHub/dspy/dspy/evaluate/evaluate.py:143: FutureWarning: DataFrame.applymap has been deprecated. Use DataFrame.map instead.\n",
      "  df = df.applymap(truncate_cell)\n",
      "/Users/byin/Documents/GitHub/dspy/dspy/evaluate/evaluate.py:217: FutureWarning: Setting an item of incompatible dtype is deprecated and will raise in a future error of pandas. Value '['✔️ [True]' 'False' '✔️ [True]' '✔️ [True]' '✔️ [True]' 'False' 'False'\n",
      " 'False' 'False' '✔️ [True]' 'False' '✔️ [True]' 'False']' has dtype incompatible with bool, please explicitly cast to a compatible dtype first.\n",
      "  df.loc[:, metric_name] = df[metric_name].apply(lambda x: f'✔️ [{x}]' if x is True else f'{x}')\n"
     ]
    },
    {
     "data": {
      "text/html": [
       "<style type=\"text/css\">\n",
       "#T_99e86 th {\n",
       "  text-align: left;\n",
       "}\n",
       "#T_99e86 td {\n",
       "  text-align: left;\n",
       "}\n",
       "#T_99e86_row0_col0, #T_99e86_row0_col1, #T_99e86_row0_col2, #T_99e86_row0_col3, #T_99e86_row0_col4, #T_99e86_row1_col0, #T_99e86_row1_col1, #T_99e86_row1_col2, #T_99e86_row1_col3, #T_99e86_row1_col4, #T_99e86_row2_col0, #T_99e86_row2_col1, #T_99e86_row2_col2, #T_99e86_row2_col3, #T_99e86_row2_col4, #T_99e86_row3_col0, #T_99e86_row3_col1, #T_99e86_row3_col2, #T_99e86_row3_col3, #T_99e86_row3_col4, #T_99e86_row4_col0, #T_99e86_row4_col1, #T_99e86_row4_col2, #T_99e86_row4_col3, #T_99e86_row4_col4, #T_99e86_row5_col0, #T_99e86_row5_col1, #T_99e86_row5_col2, #T_99e86_row5_col3, #T_99e86_row5_col4, #T_99e86_row6_col0, #T_99e86_row6_col1, #T_99e86_row6_col2, #T_99e86_row6_col3, #T_99e86_row6_col4, #T_99e86_row7_col0, #T_99e86_row7_col1, #T_99e86_row7_col2, #T_99e86_row7_col3, #T_99e86_row7_col4, #T_99e86_row8_col0, #T_99e86_row8_col1, #T_99e86_row8_col2, #T_99e86_row8_col3, #T_99e86_row8_col4, #T_99e86_row9_col0, #T_99e86_row9_col1, #T_99e86_row9_col2, #T_99e86_row9_col3, #T_99e86_row9_col4, #T_99e86_row10_col0, #T_99e86_row10_col1, #T_99e86_row10_col2, #T_99e86_row10_col3, #T_99e86_row10_col4, #T_99e86_row11_col0, #T_99e86_row11_col1, #T_99e86_row11_col2, #T_99e86_row11_col3, #T_99e86_row11_col4, #T_99e86_row12_col0, #T_99e86_row12_col1, #T_99e86_row12_col2, #T_99e86_row12_col3, #T_99e86_row12_col4 {\n",
       "  text-align: left;\n",
       "  white-space: pre-wrap;\n",
       "  word-wrap: break-word;\n",
       "  max-width: 400px;\n",
       "}\n",
       "</style>\n",
       "<table id=\"T_99e86\">\n",
       "  <thead>\n",
       "    <tr>\n",
       "      <th class=\"blank level0\" >&nbsp;</th>\n",
       "      <th id=\"T_99e86_level0_col0\" class=\"col_heading level0 col0\" >question</th>\n",
       "      <th id=\"T_99e86_level0_col1\" class=\"col_heading level0 col1\" >example_answer</th>\n",
       "      <th id=\"T_99e86_level0_col2\" class=\"col_heading level0 col2\" >rationale</th>\n",
       "      <th id=\"T_99e86_level0_col3\" class=\"col_heading level0 col3\" >pred_answer</th>\n",
       "      <th id=\"T_99e86_level0_col4\" class=\"col_heading level0 col4\" >answer_exact_match</th>\n",
       "    </tr>\n",
       "  </thead>\n",
       "  <tbody>\n",
       "    <tr>\n",
       "      <th id=\"T_99e86_level0_row0\" class=\"row_heading level0 row0\" >0</th>\n",
       "      <td id=\"T_99e86_row0_col0\" class=\"data row0 col0\" >Who has a broader scope of profession: E. L. Doctorow or Julia Peterkin?</td>\n",
       "      <td id=\"T_99e86_row0_col1\" class=\"data row0 col1\" >E. L. Doctorow</td>\n",
       "      <td id=\"T_99e86_row0_col2\" class=\"data row0 col2\" >produce the answer. E. L. Doctorow was an American novelist and editor, while Julia Peterkin was an American author. Since E. L. Doctorow's profession includes...</td>\n",
       "      <td id=\"T_99e86_row0_col3\" class=\"data row0 col3\" >E. L. Doctorow</td>\n",
       "      <td id=\"T_99e86_row0_col4\" class=\"data row0 col4\" >✔️ [True]</td>\n",
       "    </tr>\n",
       "    <tr>\n",
       "      <th id=\"T_99e86_level0_row1\" class=\"row_heading level0 row1\" >1</th>\n",
       "      <td id=\"T_99e86_row1_col0\" class=\"data row1 col0\" >Right Back At It Again contains lyrics co-written by the singer born in what city?</td>\n",
       "      <td id=\"T_99e86_row1_col1\" class=\"data row1 col1\" >Gainesville, Florida</td>\n",
       "      <td id=\"T_99e86_row1_col2\" class=\"data row1 col2\" >produce the answer. We know that \"Right Back At It Again\" is a song by A Day to Remember. The singer of A Day to...</td>\n",
       "      <td id=\"T_99e86_row1_col3\" class=\"data row1 col3\" >Ocala, Florida</td>\n",
       "      <td id=\"T_99e86_row1_col4\" class=\"data row1 col4\" >False</td>\n",
       "    </tr>\n",
       "    <tr>\n",
       "      <th id=\"T_99e86_level0_row2\" class=\"row_heading level0 row2\" >2</th>\n",
       "      <td id=\"T_99e86_row2_col0\" class=\"data row2 col0\" >What year was the party of the winner of the 1971 San Francisco mayoral election founded?</td>\n",
       "      <td id=\"T_99e86_row2_col1\" class=\"data row2 col1\" >1828</td>\n",
       "      <td id=\"T_99e86_row2_col2\" class=\"data row2 col2\" >produce the answer. We know that the winner of the 1971 San Francisco mayoral election was Joseph Alioto, who was a member of the Democratic...</td>\n",
       "      <td id=\"T_99e86_row2_col3\" class=\"data row2 col3\" >1828</td>\n",
       "      <td id=\"T_99e86_row2_col4\" class=\"data row2 col4\" >✔️ [True]</td>\n",
       "    </tr>\n",
       "    <tr>\n",
       "      <th id=\"T_99e86_level0_row3\" class=\"row_heading level0 row3\" >3</th>\n",
       "      <td id=\"T_99e86_row3_col0\" class=\"data row3 col0\" >Anthony Dirrell is the brother of which super middleweight title holder?</td>\n",
       "      <td id=\"T_99e86_row3_col1\" class=\"data row3 col1\" >Andre Dirrell</td>\n",
       "      <td id=\"T_99e86_row3_col2\" class=\"data row3 col2\" >produce the answer. We know that Anthony Dirrell is the brother of Andre Dirrell, who is a super middleweight title holder.</td>\n",
       "      <td id=\"T_99e86_row3_col3\" class=\"data row3 col3\" >Andre Dirrell</td>\n",
       "      <td id=\"T_99e86_row3_col4\" class=\"data row3 col4\" >✔️ [True]</td>\n",
       "    </tr>\n",
       "    <tr>\n",
       "      <th id=\"T_99e86_level0_row4\" class=\"row_heading level0 row4\" >4</th>\n",
       "      <td id=\"T_99e86_row4_col0\" class=\"data row4 col0\" >The sports nutrition business established by Oliver Cookson is based in which county in the UK?</td>\n",
       "      <td id=\"T_99e86_row4_col1\" class=\"data row4 col1\" >Cheshire</td>\n",
       "      <td id=\"T_99e86_row4_col2\" class=\"data row4 col2\" >produce the answer. We know that Oliver Cookson founded Myprotein, a sports nutrition business. Myprotein is based in Cheshire, a county in the UK.</td>\n",
       "      <td id=\"T_99e86_row4_col3\" class=\"data row4 col3\" >Cheshire</td>\n",
       "      <td id=\"T_99e86_row4_col4\" class=\"data row4 col4\" >✔️ [True]</td>\n",
       "    </tr>\n",
       "    <tr>\n",
       "      <th id=\"T_99e86_level0_row5\" class=\"row_heading level0 row5\" >5</th>\n",
       "      <td id=\"T_99e86_row5_col0\" class=\"data row5 col0\" >Find the birth date of the actor who played roles in First Wives Club and Searching for the Elephant.</td>\n",
       "      <td id=\"T_99e86_row5_col1\" class=\"data row5 col1\" >February 13, 1980</td>\n",
       "      <td id=\"T_99e86_row5_col2\" class=\"data row5 col2\" >produce the answer. We know that the actor who played roles in \"First Wives Club\" and \"Searching for the Elephant\" is Timothy Olyphant. Therefore, the...</td>\n",
       "      <td id=\"T_99e86_row5_col3\" class=\"data row5 col3\" >May 20, 1968</td>\n",
       "      <td id=\"T_99e86_row5_col4\" class=\"data row5 col4\" >False</td>\n",
       "    </tr>\n",
       "    <tr>\n",
       "      <th id=\"T_99e86_level0_row6\" class=\"row_heading level0 row6\" >6</th>\n",
       "      <td id=\"T_99e86_row6_col0\" class=\"data row6 col0\" >Kyle Moran was born in the town on what river?</td>\n",
       "      <td id=\"T_99e86_row6_col1\" class=\"data row6 col1\" >Castletown River</td>\n",
       "      <td id=\"T_99e86_row6_col2\" class=\"data row6 col2\" >produce the answer. We know that Kyle Moran was born in the town of Riverdale. Therefore, the town where Kyle Moran was born is located...</td>\n",
       "      <td id=\"T_99e86_row6_col3\" class=\"data row6 col3\" >Riverdale River</td>\n",
       "      <td id=\"T_99e86_row6_col4\" class=\"data row6 col4\" >False</td>\n",
       "    </tr>\n",
       "    <tr>\n",
       "      <th id=\"T_99e86_level0_row7\" class=\"row_heading level0 row7\" >7</th>\n",
       "      <td id=\"T_99e86_row7_col0\" class=\"data row7 col0\" >The actress who played the niece in the Priest film was born in what city, country?</td>\n",
       "      <td id=\"T_99e86_row7_col1\" class=\"data row7 col1\" >Surrey, England</td>\n",
       "      <td id=\"T_99e86_row7_col2\" class=\"data row7 col2\" >produce the answer. We know that the actress who played the niece in the film \"Priest\" was Lily Collins, who was born in Guildford, Surrey,...</td>\n",
       "      <td id=\"T_99e86_row7_col3\" class=\"data row7 col3\" >Guildford, Surrey, England</td>\n",
       "      <td id=\"T_99e86_row7_col4\" class=\"data row7 col4\" >False</td>\n",
       "    </tr>\n",
       "    <tr>\n",
       "      <th id=\"T_99e86_level0_row8\" class=\"row_heading level0 row8\" >8</th>\n",
       "      <td id=\"T_99e86_row8_col0\" class=\"data row8 col0\" >Name the movie in which the daughter of Noel Harrison plays Violet Trefusis.</td>\n",
       "      <td id=\"T_99e86_row8_col1\" class=\"data row8 col1\" >Portrait of a Marriage</td>\n",
       "      <td id=\"T_99e86_row8_col2\" class=\"data row8 col2\" >produce the answer. We know that the daughter of Noel Harrison is Carey Mulligan. Therefore, the movie in which Carey Mulligan plays Violet Trefusis is...</td>\n",
       "      <td id=\"T_99e86_row8_col3\" class=\"data row8 col3\" >The Royal Night Out</td>\n",
       "      <td id=\"T_99e86_row8_col4\" class=\"data row8 col4\" >False</td>\n",
       "    </tr>\n",
       "    <tr>\n",
       "      <th id=\"T_99e86_level0_row9\" class=\"row_heading level0 row9\" >9</th>\n",
       "      <td id=\"T_99e86_row9_col0\" class=\"data row9 col0\" >What year was the father of the Princes in the Tower born?</td>\n",
       "      <td id=\"T_99e86_row9_col1\" class=\"data row9 col1\" >1442</td>\n",
       "      <td id=\"T_99e86_row9_col2\" class=\"data row9 col2\" >produce the answer. We know that the father of the Princes in the Tower was King Edward IV of England. He was born on April...</td>\n",
       "      <td id=\"T_99e86_row9_col3\" class=\"data row9 col3\" >1442</td>\n",
       "      <td id=\"T_99e86_row9_col4\" class=\"data row9 col4\" >✔️ [True]</td>\n",
       "    </tr>\n",
       "    <tr>\n",
       "      <th id=\"T_99e86_level0_row10\" class=\"row_heading level0 row10\" >10</th>\n",
       "      <td id=\"T_99e86_row10_col0\" class=\"data row10 col0\" >What river is near the Crichton Collegiate Church?</td>\n",
       "      <td id=\"T_99e86_row10_col1\" class=\"data row10 col1\" >the River Tyne</td>\n",
       "      <td id=\"T_99e86_row10_col2\" class=\"data row10 col2\" >produce the answer. We know that Crichton Collegiate Church is located in Dumfries, Scotland. The river near Dumfries is the River Nith.</td>\n",
       "      <td id=\"T_99e86_row10_col3\" class=\"data row10 col3\" >River Nith</td>\n",
       "      <td id=\"T_99e86_row10_col4\" class=\"data row10 col4\" >False</td>\n",
       "    </tr>\n",
       "    <tr>\n",
       "      <th id=\"T_99e86_level0_row11\" class=\"row_heading level0 row11\" >11</th>\n",
       "      <td id=\"T_99e86_row11_col0\" class=\"data row11 col0\" >Who purchased the team Michael Schumacher raced for in the 1995 Monaco Grand Prix in 2000?</td>\n",
       "      <td id=\"T_99e86_row11_col1\" class=\"data row11 col1\" >Renault</td>\n",
       "      <td id=\"T_99e86_row11_col2\" class=\"data row11 col2\" >produce the answer. We know that Michael Schumacher raced for Benetton in the 1995 Monaco Grand Prix. In 2000, the team was purchased by Renault....</td>\n",
       "      <td id=\"T_99e86_row11_col3\" class=\"data row11 col3\" >Renault</td>\n",
       "      <td id=\"T_99e86_row11_col4\" class=\"data row11 col4\" >✔️ [True]</td>\n",
       "    </tr>\n",
       "    <tr>\n",
       "      <th id=\"T_99e86_level0_row12\" class=\"row_heading level0 row12\" >12</th>\n",
       "      <td id=\"T_99e86_row12_col0\" class=\"data row12 col0\" >André Zucca was a French photographer who worked with a German propaganda magazine published by what Nazi organization?</td>\n",
       "      <td id=\"T_99e86_row12_col1\" class=\"data row12 col1\" >the Wehrmacht</td>\n",
       "      <td id=\"T_99e86_row12_col2\" class=\"data row12 col2\" >produce the answer. We know that André Zucca worked with the German propaganda magazine Signal during World War II. Signal was published by the Nazi...</td>\n",
       "      <td id=\"T_99e86_row12_col3\" class=\"data row12 col3\" >Schutzstaffel (SS)</td>\n",
       "      <td id=\"T_99e86_row12_col4\" class=\"data row12 col4\" >False</td>\n",
       "    </tr>\n",
       "  </tbody>\n",
       "</table>\n"
      ],
      "text/plain": [
       "<pandas.io.formats.style.Styler at 0x1562d5930>"
      ]
     },
     "metadata": {},
     "output_type": "display_data"
    },
    {
     "data": {
      "text/plain": [
       "46.15"
      ]
     },
     "execution_count": 32,
     "metadata": {},
     "output_type": "execute_result"
    }
   ],
   "source": [
    "evaluate_hotpot(cot_compiled)"
   ]
  },
  {
   "cell_type": "markdown",
   "metadata": {},
   "source": [
    "### 4) Bonus 1: RAG with query generation\n",
    "\n",
    "As a bonus, let's define a more sophisticated program called `RAG`. This program will:\n",
    "\n",
    "- Use the LM to generate a search query based on the input question\n",
    "- Retrieve three passages using our retriever\n",
    "- Use the LM to generate a final answer using these passages"
   ]
  },
  {
   "cell_type": "code",
   "execution_count": null,
   "metadata": {},
   "outputs": [],
   "source": [
    "class RAG(dspy.Module):\n",
    "    def __init__(self, num_passages=3):\n",
    "        super().__init__()\n",
    "\n",
    "        # declare three modules: the retriever, a query generator, and an answer generator\n",
    "        self.retrieve = dspy.Retrieve(k=num_passages)\n",
    "        self.generate_query = dspy.ChainOfThought(\"question -> search_query\")\n",
    "        self.generate_answer = dspy.ChainOfThought(\"context, question -> answer\")\n",
    "\n",
    "    def forward(self, question):\n",
    "        # generate a search query from the question, and use it to retrieve passages\n",
    "        search_query = self.generate_query(question=question).search_query\n",
    "        passages = self.retrieve(search_query).passages\n",
    "\n",
    "        # generate an answer from the passages and the question\n",
    "        return self.generate_answer(context=passages, question=question)"
   ]
  },
  {
   "cell_type": "markdown",
   "metadata": {},
   "source": [
    "Out of curiosity, we can evaluate the **uncompiled** (or **zero-shot**) version of this program."
   ]
  },
  {
   "cell_type": "code",
   "execution_count": null,
   "metadata": {},
   "outputs": [],
   "source": [
    "evaluate_hotpot(RAG())"
   ]
  },
  {
   "cell_type": "markdown",
   "metadata": {},
   "source": [
    "Let's now compile this RAG program. We'll use a slightly more advanced teleprompter (automatic prompt optimizer) this time, which relies on random search."
   ]
  },
  {
   "cell_type": "code",
   "execution_count": null,
   "metadata": {},
   "outputs": [],
   "source": [
    "teleprompter2 = BootstrapFewShotWithRandomSearch(metric=metric_EM, max_bootstrapped_demos=4, num_candidate_programs=8, num_threads=NUM_THREADS)\n",
    "rag_compiled = teleprompter2.compile(RAG(), trainset=train, valset=dev)"
   ]
  },
  {
   "cell_type": "markdown",
   "metadata": {},
   "source": [
    "Let's now evaluate this compiled version of RAG."
   ]
  },
  {
   "cell_type": "code",
   "execution_count": 31,
   "metadata": {},
   "outputs": [
    {
     "name": "stderr",
     "output_type": "stream",
     "text": [
      "Average Metric: 7 / 13  (53.8): 100%|██████████| 13/13 [00:00<00:00, 1185.58it/s]"
     ]
    },
    {
     "name": "stdout",
     "output_type": "stream",
     "text": [
      "Average Metric: 7 / 13  (53.8%)\n"
     ]
    },
    {
     "name": "stderr",
     "output_type": "stream",
     "text": [
      "\n",
      "/Users/byin/Documents/GitHub/dspy/dspy/evaluate/evaluate.py:143: FutureWarning: DataFrame.applymap has been deprecated. Use DataFrame.map instead.\n",
      "  df = df.applymap(truncate_cell)\n",
      "/Users/byin/Documents/GitHub/dspy/dspy/evaluate/evaluate.py:217: FutureWarning: Setting an item of incompatible dtype is deprecated and will raise in a future error of pandas. Value '['✔️ [True]' 'False' '✔️ [True]' '✔️ [True]' '✔️ [True]' 'False' 'False'\n",
      " 'False' 'False' '✔️ [True]' '✔️ [True]' '✔️ [True]' 'False']' has dtype incompatible with bool, please explicitly cast to a compatible dtype first.\n",
      "  df.loc[:, metric_name] = df[metric_name].apply(lambda x: f'✔️ [{x}]' if x is True else f'{x}')\n"
     ]
    },
    {
     "data": {
      "text/html": [
       "<style type=\"text/css\">\n",
       "#T_00423 th {\n",
       "  text-align: left;\n",
       "}\n",
       "#T_00423 td {\n",
       "  text-align: left;\n",
       "}\n",
       "#T_00423_row0_col0, #T_00423_row0_col1, #T_00423_row0_col2, #T_00423_row0_col3, #T_00423_row0_col4, #T_00423_row1_col0, #T_00423_row1_col1, #T_00423_row1_col2, #T_00423_row1_col3, #T_00423_row1_col4, #T_00423_row2_col0, #T_00423_row2_col1, #T_00423_row2_col2, #T_00423_row2_col3, #T_00423_row2_col4, #T_00423_row3_col0, #T_00423_row3_col1, #T_00423_row3_col2, #T_00423_row3_col3, #T_00423_row3_col4, #T_00423_row4_col0, #T_00423_row4_col1, #T_00423_row4_col2, #T_00423_row4_col3, #T_00423_row4_col4, #T_00423_row5_col0, #T_00423_row5_col1, #T_00423_row5_col2, #T_00423_row5_col3, #T_00423_row5_col4, #T_00423_row6_col0, #T_00423_row6_col1, #T_00423_row6_col2, #T_00423_row6_col3, #T_00423_row6_col4, #T_00423_row7_col0, #T_00423_row7_col1, #T_00423_row7_col2, #T_00423_row7_col3, #T_00423_row7_col4, #T_00423_row8_col0, #T_00423_row8_col1, #T_00423_row8_col2, #T_00423_row8_col3, #T_00423_row8_col4, #T_00423_row9_col0, #T_00423_row9_col1, #T_00423_row9_col2, #T_00423_row9_col3, #T_00423_row9_col4, #T_00423_row10_col0, #T_00423_row10_col1, #T_00423_row10_col2, #T_00423_row10_col3, #T_00423_row10_col4, #T_00423_row11_col0, #T_00423_row11_col1, #T_00423_row11_col2, #T_00423_row11_col3, #T_00423_row11_col4, #T_00423_row12_col0, #T_00423_row12_col1, #T_00423_row12_col2, #T_00423_row12_col3, #T_00423_row12_col4 {\n",
       "  text-align: left;\n",
       "  white-space: pre-wrap;\n",
       "  word-wrap: break-word;\n",
       "  max-width: 400px;\n",
       "}\n",
       "</style>\n",
       "<table id=\"T_00423\">\n",
       "  <thead>\n",
       "    <tr>\n",
       "      <th class=\"blank level0\" >&nbsp;</th>\n",
       "      <th id=\"T_00423_level0_col0\" class=\"col_heading level0 col0\" >question</th>\n",
       "      <th id=\"T_00423_level0_col1\" class=\"col_heading level0 col1\" >example_answer</th>\n",
       "      <th id=\"T_00423_level0_col2\" class=\"col_heading level0 col2\" >rationale</th>\n",
       "      <th id=\"T_00423_level0_col3\" class=\"col_heading level0 col3\" >pred_answer</th>\n",
       "      <th id=\"T_00423_level0_col4\" class=\"col_heading level0 col4\" >answer_exact_match</th>\n",
       "    </tr>\n",
       "  </thead>\n",
       "  <tbody>\n",
       "    <tr>\n",
       "      <th id=\"T_00423_level0_row0\" class=\"row_heading level0 row0\" >0</th>\n",
       "      <td id=\"T_00423_row0_col0\" class=\"data row0 col0\" >Who has a broader scope of profession: E. L. Doctorow or Julia Peterkin?</td>\n",
       "      <td id=\"T_00423_row0_col1\" class=\"data row0 col1\" >E. L. Doctorow</td>\n",
       "      <td id=\"T_00423_row0_col2\" class=\"data row0 col2\" >produce the answer. We know from the context that E. L. Doctorow was an American novelist, editor, and professor, while Julia Peterkin was an American...</td>\n",
       "      <td id=\"T_00423_row0_col3\" class=\"data row0 col3\" >E. L. Doctorow</td>\n",
       "      <td id=\"T_00423_row0_col4\" class=\"data row0 col4\" >✔️ [True]</td>\n",
       "    </tr>\n",
       "    <tr>\n",
       "      <th id=\"T_00423_level0_row1\" class=\"row_heading level0 row1\" >1</th>\n",
       "      <td id=\"T_00423_row1_col0\" class=\"data row1 col0\" >Right Back At It Again contains lyrics co-written by the singer born in what city?</td>\n",
       "      <td id=\"T_00423_row1_col1\" class=\"data row1 col1\" >Gainesville, Florida</td>\n",
       "      <td id=\"T_00423_row1_col2\" class=\"data row1 col2\" >produce the answer. We know from the context that the song \"Right Back At It Again\" contains lyrics co-written by the singer born in the...</td>\n",
       "      <td id=\"T_00423_row1_col3\" class=\"data row1 col3\" >N/A</td>\n",
       "      <td id=\"T_00423_row1_col4\" class=\"data row1 col4\" >False</td>\n",
       "    </tr>\n",
       "    <tr>\n",
       "      <th id=\"T_00423_level0_row2\" class=\"row_heading level0 row2\" >2</th>\n",
       "      <td id=\"T_00423_row2_col0\" class=\"data row2 col0\" >What year was the party of the winner of the 1971 San Francisco mayoral election founded?</td>\n",
       "      <td id=\"T_00423_row2_col1\" class=\"data row2 col1\" >1828</td>\n",
       "      <td id=\"T_00423_row2_col2\" class=\"data row2 col2\" >produce the answer. We know from the context that the winner of the 1971 San Francisco mayoral election was Joseph Alioto, who was a member...</td>\n",
       "      <td id=\"T_00423_row2_col3\" class=\"data row2 col3\" >1828</td>\n",
       "      <td id=\"T_00423_row2_col4\" class=\"data row2 col4\" >✔️ [True]</td>\n",
       "    </tr>\n",
       "    <tr>\n",
       "      <th id=\"T_00423_level0_row3\" class=\"row_heading level0 row3\" >3</th>\n",
       "      <td id=\"T_00423_row3_col0\" class=\"data row3 col0\" >Anthony Dirrell is the brother of which super middleweight title holder?</td>\n",
       "      <td id=\"T_00423_row3_col1\" class=\"data row3 col1\" >Andre Dirrell</td>\n",
       "      <td id=\"T_00423_row3_col2\" class=\"data row3 col2\" >produce the answer. We know from the context that Anthony Dirrell is the younger brother of Andre Dirrell, who is a professional boxer and has...</td>\n",
       "      <td id=\"T_00423_row3_col3\" class=\"data row3 col3\" >Andre Dirrell</td>\n",
       "      <td id=\"T_00423_row3_col4\" class=\"data row3 col4\" >✔️ [True]</td>\n",
       "    </tr>\n",
       "    <tr>\n",
       "      <th id=\"T_00423_level0_row4\" class=\"row_heading level0 row4\" >4</th>\n",
       "      <td id=\"T_00423_row4_col0\" class=\"data row4 col0\" >The sports nutrition business established by Oliver Cookson is based in which county in the UK?</td>\n",
       "      <td id=\"T_00423_row4_col1\" class=\"data row4 col1\" >Cheshire</td>\n",
       "      <td id=\"T_00423_row4_col2\" class=\"data row4 col2\" >produce the answer. We know from the context that Oliver Cookson established the sports nutrition business Myprotein, which is based in Cheshire, United Kingdom.</td>\n",
       "      <td id=\"T_00423_row4_col3\" class=\"data row4 col3\" >Cheshire</td>\n",
       "      <td id=\"T_00423_row4_col4\" class=\"data row4 col4\" >✔️ [True]</td>\n",
       "    </tr>\n",
       "    <tr>\n",
       "      <th id=\"T_00423_level0_row5\" class=\"row_heading level0 row5\" >5</th>\n",
       "      <td id=\"T_00423_row5_col0\" class=\"data row5 col0\" >Find the birth date of the actor who played roles in First Wives Club and Searching for the Elephant.</td>\n",
       "      <td id=\"T_00423_row5_col1\" class=\"data row5 col1\" >February 13, 1980</td>\n",
       "      <td id=\"T_00423_row5_col2\" class=\"data row5 col2\" >produce the answer. We know from the context that Oh Dae-gyu was born on May 13, 1968.</td>\n",
       "      <td id=\"T_00423_row5_col3\" class=\"data row5 col3\" >May 13, 1968</td>\n",
       "      <td id=\"T_00423_row5_col4\" class=\"data row5 col4\" >False</td>\n",
       "    </tr>\n",
       "    <tr>\n",
       "      <th id=\"T_00423_level0_row6\" class=\"row_heading level0 row6\" >6</th>\n",
       "      <td id=\"T_00423_row6_col0\" class=\"data row6 col0\" >Kyle Moran was born in the town on what river?</td>\n",
       "      <td id=\"T_00423_row6_col1\" class=\"data row6 col1\" >Castletown River</td>\n",
       "      <td id=\"T_00423_row6_col2\" class=\"data row6 col2\" >produce the answer. We know from the context that Kyle Moran was born in Dundalk, Ireland, and that Blennerville is a suburb of Tralee, County...</td>\n",
       "      <td id=\"T_00423_row6_col3\" class=\"data row6 col3\" >River Lee</td>\n",
       "      <td id=\"T_00423_row6_col4\" class=\"data row6 col4\" >False</td>\n",
       "    </tr>\n",
       "    <tr>\n",
       "      <th id=\"T_00423_level0_row7\" class=\"row_heading level0 row7\" >7</th>\n",
       "      <td id=\"T_00423_row7_col0\" class=\"data row7 col0\" >The actress who played the niece in the Priest film was born in what city, country?</td>\n",
       "      <td id=\"T_00423_row7_col1\" class=\"data row7 col1\" >Surrey, England</td>\n",
       "      <td id=\"T_00423_row7_col2\" class=\"data row7 col2\" >produce the answer. We know from the context that the actress Lily Collins played the niece in the film \"Priest\" and that she was born...</td>\n",
       "      <td id=\"T_00423_row7_col3\" class=\"data row7 col3\" >Guildford, Surrey, England</td>\n",
       "      <td id=\"T_00423_row7_col4\" class=\"data row7 col4\" >False</td>\n",
       "    </tr>\n",
       "    <tr>\n",
       "      <th id=\"T_00423_level0_row8\" class=\"row_heading level0 row8\" >8</th>\n",
       "      <td id=\"T_00423_row8_col0\" class=\"data row8 col0\" >Name the movie in which the daughter of Noel Harrison plays Violet Trefusis.</td>\n",
       "      <td id=\"T_00423_row8_col1\" class=\"data row8 col1\" >Portrait of a Marriage</td>\n",
       "      <td id=\"T_00423_row8_col2\" class=\"data row8 col2\" >produce the answer. We know from the context that Cathryn Harrison is the daughter of Noel Harrison and that she is an actress. Violet Trefusis...</td>\n",
       "      <td id=\"T_00423_row8_col3\" class=\"data row8 col3\" >Vita & Virginia</td>\n",
       "      <td id=\"T_00423_row8_col4\" class=\"data row8 col4\" >False</td>\n",
       "    </tr>\n",
       "    <tr>\n",
       "      <th id=\"T_00423_level0_row9\" class=\"row_heading level0 row9\" >9</th>\n",
       "      <td id=\"T_00423_row9_col0\" class=\"data row9 col0\" >What year was the father of the Princes in the Tower born?</td>\n",
       "      <td id=\"T_00423_row9_col1\" class=\"data row9 col1\" >1442</td>\n",
       "      <td id=\"T_00423_row9_col2\" class=\"data row9 col2\" >produce the answer. We know from the context that the father of the Princes in the Tower was Edward IV of England. According to historical...</td>\n",
       "      <td id=\"T_00423_row9_col3\" class=\"data row9 col3\" >1442</td>\n",
       "      <td id=\"T_00423_row9_col4\" class=\"data row9 col4\" >✔️ [True]</td>\n",
       "    </tr>\n",
       "    <tr>\n",
       "      <th id=\"T_00423_level0_row10\" class=\"row_heading level0 row10\" >10</th>\n",
       "      <td id=\"T_00423_row10_col0\" class=\"data row10 col0\" >What river is near the Crichton Collegiate Church?</td>\n",
       "      <td id=\"T_00423_row10_col1\" class=\"data row10 col1\" >the River Tyne</td>\n",
       "      <td id=\"T_00423_row10_col2\" class=\"data row10 col2\" >produce the answer. We know from the context that Crichton Collegiate Church is situated near the village of Crichton in Midlothian, Scotland, and that it...</td>\n",
       "      <td id=\"T_00423_row10_col3\" class=\"data row10 col3\" >River Tyne</td>\n",
       "      <td id=\"T_00423_row10_col4\" class=\"data row10 col4\" >✔️ [True]</td>\n",
       "    </tr>\n",
       "    <tr>\n",
       "      <th id=\"T_00423_level0_row11\" class=\"row_heading level0 row11\" >11</th>\n",
       "      <td id=\"T_00423_row11_col0\" class=\"data row11 col0\" >Who purchased the team Michael Schumacher raced for in the 1995 Monaco Grand Prix in 2000?</td>\n",
       "      <td id=\"T_00423_row11_col1\" class=\"data row11 col1\" >Renault</td>\n",
       "      <td id=\"T_00423_row11_col2\" class=\"data row11 col2\" >produce the answer. We know from the context that Michael Schumacher raced for the Benetton team in the 1995 Monaco Grand Prix. In 2000, the...</td>\n",
       "      <td id=\"T_00423_row11_col3\" class=\"data row11 col3\" >Renault</td>\n",
       "      <td id=\"T_00423_row11_col4\" class=\"data row11 col4\" >✔️ [True]</td>\n",
       "    </tr>\n",
       "    <tr>\n",
       "      <th id=\"T_00423_level0_row12\" class=\"row_heading level0 row12\" >12</th>\n",
       "      <td id=\"T_00423_row12_col0\" class=\"data row12 col0\" >André Zucca was a French photographer who worked with a German propaganda magazine published by what Nazi organization?</td>\n",
       "      <td id=\"T_00423_row12_col1\" class=\"data row12 col1\" >the Wehrmacht</td>\n",
       "      <td id=\"T_00423_row12_col2\" class=\"data row12 col2\" >produce the answer. We know from the context that André Zucca worked with the German propaganda magazine \"Signal\", which was published by the German Nazi...</td>\n",
       "      <td id=\"T_00423_row12_col3\" class=\"data row12 col3\" >German Nazi Party</td>\n",
       "      <td id=\"T_00423_row12_col4\" class=\"data row12 col4\" >False</td>\n",
       "    </tr>\n",
       "  </tbody>\n",
       "</table>\n"
      ],
      "text/plain": [
       "<pandas.io.formats.style.Styler at 0x153ff3d00>"
      ]
     },
     "metadata": {},
     "output_type": "display_data"
    },
    {
     "data": {
      "text/plain": [
       "53.85"
      ]
     },
     "execution_count": 31,
     "metadata": {},
     "output_type": "execute_result"
    }
   ],
   "source": [
    "evaluate_hotpot(rag_compiled)"
   ]
  },
  {
   "cell_type": "markdown",
   "metadata": {},
   "source": [
    "Let's inspect one of the LM calls for this. Focus in particular on the structure of the last few input/output examples in the prompt."
   ]
  },
  {
   "cell_type": "code",
   "execution_count": null,
   "metadata": {},
   "outputs": [],
   "source": [
    "rag_compiled(\"What year was the party of the winner of the 1971 San Francisco mayoral election founded?\")\n",
    "turbo.inspect_history(n=1)"
   ]
  },
  {
   "cell_type": "markdown",
   "metadata": {},
   "source": [
    "### 4) Bonus 2: Multi-Hop Retrieval and Reasoning"
   ]
  },
  {
   "cell_type": "markdown",
   "metadata": {},
   "source": [
    "Let's now build a simple multi-hop program, which will interleave multiple calls to the LM and the retriever.\n",
    "\n",
    "Please follow the **TODO** instructions below to implement this."
   ]
  },
  {
   "cell_type": "code",
   "execution_count": null,
   "metadata": {},
   "outputs": [],
   "source": [
    "from dsp.utils.utils import deduplicate\n",
    "\n",
    "class MultiHop(dspy.Module):\n",
    "    def __init__(self, num_passages=3):\n",
    "        super().__init__()\n",
    "\n",
    "        self.retrieve = dspy.Retrieve(k=num_passages)\n",
    "        self.generate_query = dspy.ChainOfThought(\"question -> search_query\")\n",
    "\n",
    "        # TODO: Define a dspy.ChainOfThought module with the signature 'context, question -> search_query'.\n",
    "        self.generate_query_from_context = dspy.ChainOfThought(\"context, question -> search_query\")\n",
    "\n",
    "        self.generate_answer = dspy.ChainOfThought(\"context, question -> answer\")\n",
    "\n",
    "    def forward(self, question):\n",
    "        passages = []\n",
    "\n",
    "        search_query = self.generate_query(question=question).search_query\n",
    "        passages += self.retrieve(search_query).passages\n",
    "\n",
    "        # TODO: Replace `None` with a call to self.generate_query_from_context to generate a search query.\n",
    "        # Note: In DSPy, always pass keyword arguments (e.g., context=..., question=...) to the modules to avoid ambiguity.\n",
    "        # Note 2: Don't forget to access the field .search_query to extract that from the output of the module.\n",
    "        search_query2 = self.generate_query_from_context(context=deduplicate(passages), question=question).search_query\n",
    "\n",
    "        # TODO: Replace `None` with a call to self.retrieve to retrieve passages. Append them to the list `passages`.\n",
    "        passages += self.retrieve(search_query2).passages\n",
    "\n",
    "        return self.generate_answer(context=deduplicate(passages), question=question)"
   ]
  },
  {
   "cell_type": "code",
   "execution_count": null,
   "metadata": {},
   "outputs": [],
   "source": [
    "multihop_compiled = teleprompter2.compile(MultiHop(), trainset=train, valset=dev)"
   ]
  },
  {
   "cell_type": "code",
   "execution_count": 30,
   "metadata": {},
   "outputs": [
    {
     "name": "stderr",
     "output_type": "stream",
     "text": [
      "Average Metric: 9 / 13  (69.2): 100%|██████████| 13/13 [00:00<00:00, 845.04it/s]"
     ]
    },
    {
     "name": "stdout",
     "output_type": "stream",
     "text": [
      "Average Metric: 9 / 13  (69.2%)\n"
     ]
    },
    {
     "name": "stderr",
     "output_type": "stream",
     "text": [
      "\n",
      "/Users/byin/Documents/GitHub/dspy/dspy/evaluate/evaluate.py:143: FutureWarning: DataFrame.applymap has been deprecated. Use DataFrame.map instead.\n",
      "  df = df.applymap(truncate_cell)\n",
      "/Users/byin/Documents/GitHub/dspy/dspy/evaluate/evaluate.py:217: FutureWarning: Setting an item of incompatible dtype is deprecated and will raise in a future error of pandas. Value '['✔️ [True]' 'False' '✔️ [True]' '✔️ [True]' '✔️ [True]' 'False' 'False'\n",
      " 'False' '✔️ [True]' '✔️ [True]' '✔️ [True]' '✔️ [True]' '✔️ [True]']' has dtype incompatible with bool, please explicitly cast to a compatible dtype first.\n",
      "  df.loc[:, metric_name] = df[metric_name].apply(lambda x: f'✔️ [{x}]' if x is True else f'{x}')\n"
     ]
    },
    {
     "data": {
      "text/html": [
       "<style type=\"text/css\">\n",
       "#T_849ec th {\n",
       "  text-align: left;\n",
       "}\n",
       "#T_849ec td {\n",
       "  text-align: left;\n",
       "}\n",
       "#T_849ec_row0_col0, #T_849ec_row0_col1, #T_849ec_row0_col2, #T_849ec_row0_col3, #T_849ec_row0_col4, #T_849ec_row1_col0, #T_849ec_row1_col1, #T_849ec_row1_col2, #T_849ec_row1_col3, #T_849ec_row1_col4, #T_849ec_row2_col0, #T_849ec_row2_col1, #T_849ec_row2_col2, #T_849ec_row2_col3, #T_849ec_row2_col4, #T_849ec_row3_col0, #T_849ec_row3_col1, #T_849ec_row3_col2, #T_849ec_row3_col3, #T_849ec_row3_col4, #T_849ec_row4_col0, #T_849ec_row4_col1, #T_849ec_row4_col2, #T_849ec_row4_col3, #T_849ec_row4_col4, #T_849ec_row5_col0, #T_849ec_row5_col1, #T_849ec_row5_col2, #T_849ec_row5_col3, #T_849ec_row5_col4, #T_849ec_row6_col0, #T_849ec_row6_col1, #T_849ec_row6_col2, #T_849ec_row6_col3, #T_849ec_row6_col4, #T_849ec_row7_col0, #T_849ec_row7_col1, #T_849ec_row7_col2, #T_849ec_row7_col3, #T_849ec_row7_col4, #T_849ec_row8_col0, #T_849ec_row8_col1, #T_849ec_row8_col2, #T_849ec_row8_col3, #T_849ec_row8_col4, #T_849ec_row9_col0, #T_849ec_row9_col1, #T_849ec_row9_col2, #T_849ec_row9_col3, #T_849ec_row9_col4, #T_849ec_row10_col0, #T_849ec_row10_col1, #T_849ec_row10_col2, #T_849ec_row10_col3, #T_849ec_row10_col4, #T_849ec_row11_col0, #T_849ec_row11_col1, #T_849ec_row11_col2, #T_849ec_row11_col3, #T_849ec_row11_col4, #T_849ec_row12_col0, #T_849ec_row12_col1, #T_849ec_row12_col2, #T_849ec_row12_col3, #T_849ec_row12_col4 {\n",
       "  text-align: left;\n",
       "  white-space: pre-wrap;\n",
       "  word-wrap: break-word;\n",
       "  max-width: 400px;\n",
       "}\n",
       "</style>\n",
       "<table id=\"T_849ec\">\n",
       "  <thead>\n",
       "    <tr>\n",
       "      <th class=\"blank level0\" >&nbsp;</th>\n",
       "      <th id=\"T_849ec_level0_col0\" class=\"col_heading level0 col0\" >question</th>\n",
       "      <th id=\"T_849ec_level0_col1\" class=\"col_heading level0 col1\" >example_answer</th>\n",
       "      <th id=\"T_849ec_level0_col2\" class=\"col_heading level0 col2\" >rationale</th>\n",
       "      <th id=\"T_849ec_level0_col3\" class=\"col_heading level0 col3\" >pred_answer</th>\n",
       "      <th id=\"T_849ec_level0_col4\" class=\"col_heading level0 col4\" >answer_exact_match</th>\n",
       "    </tr>\n",
       "  </thead>\n",
       "  <tbody>\n",
       "    <tr>\n",
       "      <th id=\"T_849ec_level0_row0\" class=\"row_heading level0 row0\" >0</th>\n",
       "      <td id=\"T_849ec_row0_col0\" class=\"data row0 col0\" >Who has a broader scope of profession: E. L. Doctorow or Julia Peterkin?</td>\n",
       "      <td id=\"T_849ec_row0_col1\" class=\"data row0 col1\" >E. L. Doctorow</td>\n",
       "      <td id=\"T_849ec_row0_col2\" class=\"data row0 col2\" >produce the answer. E. L. Doctorow was an American novelist, editor, and professor, known for his historical fiction works. On the other hand, Julia Peterkin...</td>\n",
       "      <td id=\"T_849ec_row0_col3\" class=\"data row0 col3\" >E. L. Doctorow</td>\n",
       "      <td id=\"T_849ec_row0_col4\" class=\"data row0 col4\" >✔️ [True]</td>\n",
       "    </tr>\n",
       "    <tr>\n",
       "      <th id=\"T_849ec_level0_row1\" class=\"row_heading level0 row1\" >1</th>\n",
       "      <td id=\"T_849ec_row1_col0\" class=\"data row1 col0\" >Right Back At It Again contains lyrics co-written by the singer born in what city?</td>\n",
       "      <td id=\"T_849ec_row1_col1\" class=\"data row1 col1\" >Gainesville, Florida</td>\n",
       "      <td id=\"T_849ec_row1_col2\" class=\"data row1 col2\" >produce the answer. We need to identify the singer who co-wrote the lyrics for the song \"Right Back At It Again.\"</td>\n",
       "      <td id=\"T_849ec_row1_col3\" class=\"data row1 col3\" >The singer born in what city co-wrote the lyrics for \"Right Back At It Again\" is Pierre Tubbs, who was born in the city of...</td>\n",
       "      <td id=\"T_849ec_row1_col4\" class=\"data row1 col4\" >False</td>\n",
       "    </tr>\n",
       "    <tr>\n",
       "      <th id=\"T_849ec_level0_row2\" class=\"row_heading level0 row2\" >2</th>\n",
       "      <td id=\"T_849ec_row2_col0\" class=\"data row2 col0\" >What year was the party of the winner of the 1971 San Francisco mayoral election founded?</td>\n",
       "      <td id=\"T_849ec_row2_col1\" class=\"data row2 col1\" >1828</td>\n",
       "      <td id=\"T_849ec_row2_col2\" class=\"data row2 col2\" >produce the answer. The winner of the 1971 San Francisco mayoral election was Willie Brown. To find out the year the party of the winner...</td>\n",
       "      <td id=\"T_849ec_row2_col3\" class=\"data row2 col3\" >1828</td>\n",
       "      <td id=\"T_849ec_row2_col4\" class=\"data row2 col4\" >✔️ [True]</td>\n",
       "    </tr>\n",
       "    <tr>\n",
       "      <th id=\"T_849ec_level0_row3\" class=\"row_heading level0 row3\" >3</th>\n",
       "      <td id=\"T_849ec_row3_col0\" class=\"data row3 col0\" >Anthony Dirrell is the brother of which super middleweight title holder?</td>\n",
       "      <td id=\"T_849ec_row3_col1\" class=\"data row3 col1\" >Andre Dirrell</td>\n",
       "      <td id=\"T_849ec_row3_col2\" class=\"data row3 col2\" >produce the answer. Anthony Dirrell is the younger brother of Andre Dirrell, who held the WBC super middleweight title in 2009.</td>\n",
       "      <td id=\"T_849ec_row3_col3\" class=\"data row3 col3\" >Andre Dirrell</td>\n",
       "      <td id=\"T_849ec_row3_col4\" class=\"data row3 col4\" >✔️ [True]</td>\n",
       "    </tr>\n",
       "    <tr>\n",
       "      <th id=\"T_849ec_level0_row4\" class=\"row_heading level0 row4\" >4</th>\n",
       "      <td id=\"T_849ec_row4_col0\" class=\"data row4 col0\" >The sports nutrition business established by Oliver Cookson is based in which county in the UK?</td>\n",
       "      <td id=\"T_849ec_row4_col1\" class=\"data row4 col1\" >Cheshire</td>\n",
       "      <td id=\"T_849ec_row4_col2\" class=\"data row4 col2\" >produce the answer. We know from the context that Oliver Cookson established the sports nutrition business Myprotein. The context also mentions that Myprotein is based...</td>\n",
       "      <td id=\"T_849ec_row4_col3\" class=\"data row4 col3\" >Cheshire</td>\n",
       "      <td id=\"T_849ec_row4_col4\" class=\"data row4 col4\" >✔️ [True]</td>\n",
       "    </tr>\n",
       "    <tr>\n",
       "      <th id=\"T_849ec_level0_row5\" class=\"row_heading level0 row5\" >5</th>\n",
       "      <td id=\"T_849ec_row5_col0\" class=\"data row5 col0\" >Find the birth date of the actor who played roles in First Wives Club and Searching for the Elephant.</td>\n",
       "      <td id=\"T_849ec_row5_col1\" class=\"data row5 col1\" >February 13, 1980</td>\n",
       "      <td id=\"T_849ec_row5_col2\" class=\"data row5 col2\" >produce the answer. We need to identify the actor who appeared in both \"First Wives Club\" and \"Searching for the Elephant\" from the provided information.</td>\n",
       "      <td id=\"T_849ec_row5_col3\" class=\"data row5 col3\" >December 11, 1977</td>\n",
       "      <td id=\"T_849ec_row5_col4\" class=\"data row5 col4\" >False</td>\n",
       "    </tr>\n",
       "    <tr>\n",
       "      <th id=\"T_849ec_level0_row6\" class=\"row_heading level0 row6\" >6</th>\n",
       "      <td id=\"T_849ec_row6_col0\" class=\"data row6 col0\" >Kyle Moran was born in the town on what river?</td>\n",
       "      <td id=\"T_849ec_row6_col1\" class=\"data row6 col1\" >Castletown River</td>\n",
       "      <td id=\"T_849ec_row6_col2\" class=\"data row6 col2\" >produce the answer. We know that Kyle Moran was born in Dundalk, Ireland. Dundalk is a town located on the River Castletown.</td>\n",
       "      <td id=\"T_849ec_row6_col3\" class=\"data row6 col3\" >River Castletown</td>\n",
       "      <td id=\"T_849ec_row6_col4\" class=\"data row6 col4\" >False</td>\n",
       "    </tr>\n",
       "    <tr>\n",
       "      <th id=\"T_849ec_level0_row7\" class=\"row_heading level0 row7\" >7</th>\n",
       "      <td id=\"T_849ec_row7_col0\" class=\"data row7 col0\" >The actress who played the niece in the Priest film was born in what city, country?</td>\n",
       "      <td id=\"T_849ec_row7_col1\" class=\"data row7 col1\" >Surrey, England</td>\n",
       "      <td id=\"T_849ec_row7_col2\" class=\"data row7 col2\" >produce the answer. We know from the context that the actress who played the niece in the Priest film is Lily Collins. Lily Collins was...</td>\n",
       "      <td id=\"T_849ec_row7_col3\" class=\"data row7 col3\" >Guildford, Surrey, England</td>\n",
       "      <td id=\"T_849ec_row7_col4\" class=\"data row7 col4\" >False</td>\n",
       "    </tr>\n",
       "    <tr>\n",
       "      <th id=\"T_849ec_level0_row8\" class=\"row_heading level0 row8\" >8</th>\n",
       "      <td id=\"T_849ec_row8_col0\" class=\"data row8 col0\" >Name the movie in which the daughter of Noel Harrison plays Violet Trefusis.</td>\n",
       "      <td id=\"T_849ec_row8_col1\" class=\"data row8 col1\" >Portrait of a Marriage</td>\n",
       "      <td id=\"T_849ec_row8_col2\" class=\"data row8 col2\" >produce the answer. Cathryn Harrison played the role of Violet Trefusis in the British television miniseries \"Portrait of a Marriage.\"</td>\n",
       "      <td id=\"T_849ec_row8_col3\" class=\"data row8 col3\" >Portrait of a Marriage</td>\n",
       "      <td id=\"T_849ec_row8_col4\" class=\"data row8 col4\" >✔️ [True]</td>\n",
       "    </tr>\n",
       "    <tr>\n",
       "      <th id=\"T_849ec_level0_row9\" class=\"row_heading level0 row9\" >9</th>\n",
       "      <td id=\"T_849ec_row9_col0\" class=\"data row9 col0\" >What year was the father of the Princes in the Tower born?</td>\n",
       "      <td id=\"T_849ec_row9_col1\" class=\"data row9 col1\" >1442</td>\n",
       "      <td id=\"T_849ec_row9_col2\" class=\"data row9 col2\" >produce the answer. We know that the father of the Princes in the Tower was Edward IV of England. According to the context, Edward IV...</td>\n",
       "      <td id=\"T_849ec_row9_col3\" class=\"data row9 col3\" >1442</td>\n",
       "      <td id=\"T_849ec_row9_col4\" class=\"data row9 col4\" >✔️ [True]</td>\n",
       "    </tr>\n",
       "    <tr>\n",
       "      <th id=\"T_849ec_level0_row10\" class=\"row_heading level0 row10\" >10</th>\n",
       "      <td id=\"T_849ec_row10_col0\" class=\"data row10 col0\" >What river is near the Crichton Collegiate Church?</td>\n",
       "      <td id=\"T_849ec_row10_col1\" class=\"data row10 col1\" >the River Tyne</td>\n",
       "      <td id=\"T_849ec_row10_col2\" class=\"data row10 col2\" >produce the answer. We know that Crichton Collegiate Church is situated near the village of Crichton in Midlothian, Scotland. The church is located at the...</td>\n",
       "      <td id=\"T_849ec_row10_col3\" class=\"data row10 col3\" >River Tyne</td>\n",
       "      <td id=\"T_849ec_row10_col4\" class=\"data row10 col4\" >✔️ [True]</td>\n",
       "    </tr>\n",
       "    <tr>\n",
       "      <th id=\"T_849ec_level0_row11\" class=\"row_heading level0 row11\" >11</th>\n",
       "      <td id=\"T_849ec_row11_col0\" class=\"data row11 col0\" >Who purchased the team Michael Schumacher raced for in the 1995 Monaco Grand Prix in 2000?</td>\n",
       "      <td id=\"T_849ec_row11_col1\" class=\"data row11 col1\" >Renault</td>\n",
       "      <td id=\"T_849ec_row11_col2\" class=\"data row11 col2\" >produce the answer. Michael Schumacher raced for the Benetton team in the 1995 Monaco Grand Prix. In 2000, the Benetton team was purchased by Renault.</td>\n",
       "      <td id=\"T_849ec_row11_col3\" class=\"data row11 col3\" >Renault</td>\n",
       "      <td id=\"T_849ec_row11_col4\" class=\"data row11 col4\" >✔️ [True]</td>\n",
       "    </tr>\n",
       "    <tr>\n",
       "      <th id=\"T_849ec_level0_row12\" class=\"row_heading level0 row12\" >12</th>\n",
       "      <td id=\"T_849ec_row12_col0\" class=\"data row12 col0\" >André Zucca was a French photographer who worked with a German propaganda magazine published by what Nazi organization?</td>\n",
       "      <td id=\"T_849ec_row12_col1\" class=\"data row12 col1\" >the Wehrmacht</td>\n",
       "      <td id=\"T_849ec_row12_col2\" class=\"data row12 col2\" >produce the answer. We know that André Zucca was a French photographer known for his work with the German propaganda magazine \"Signal\". Given that \"Signal\"...</td>\n",
       "      <td id=\"T_849ec_row12_col3\" class=\"data row12 col3\" >Wehrmacht</td>\n",
       "      <td id=\"T_849ec_row12_col4\" class=\"data row12 col4\" >✔️ [True]</td>\n",
       "    </tr>\n",
       "  </tbody>\n",
       "</table>\n"
      ],
      "text/plain": [
       "<pandas.io.formats.style.Styler at 0x105826800>"
      ]
     },
     "metadata": {},
     "output_type": "display_data"
    },
    {
     "data": {
      "text/plain": [
       "69.23"
      ]
     },
     "execution_count": 30,
     "metadata": {},
     "output_type": "execute_result"
    }
   ],
   "source": [
    "evaluate_hotpot(multihop_compiled, devset=dev)"
   ]
  },
  {
   "cell_type": "markdown",
   "metadata": {},
   "source": [
    "Let's now inspect the prompt for the second-hop search query for one of the questions."
   ]
  },
  {
   "cell_type": "code",
   "execution_count": 29,
   "metadata": {},
   "outputs": [
    {
     "name": "stdout",
     "output_type": "stream",
     "text": [
      "\n",
      "\n",
      "\n",
      "\n",
      "Given the fields `context`, `question`, produce the fields `answer`.\n",
      "\n",
      "---\n",
      "\n",
      "Question: In what year was the star of To Hell and Back born?\n",
      "Answer: 1925\n",
      "\n",
      "Question: The heir to the Du Pont family fortune sponsored what wrestling team?\n",
      "Answer: Foxcatcher\n",
      "\n",
      "Question: Who was the director of the 2009 movie featuring Peter Outerbridge as William Easton?\n",
      "Answer: Kevin Greutert\n",
      "\n",
      "Question: Who produced the album that included a re-recording of \"Lithium\"?\n",
      "Answer: Butch Vig\n",
      "\n",
      "Question: Which award did the first book of Gary Zukav receive?\n",
      "Answer: U.S. National Book Award\n",
      "\n",
      "Question: What documentary about the Gilgo Beach Killer debuted on A&E?\n",
      "Answer: The Killing Season\n",
      "\n",
      "Question: Which author is English: John Braine or Studs Terkel?\n",
      "Answer: John Braine\n",
      "\n",
      "---\n",
      "\n",
      "Follow the following format.\n",
      "\n",
      "Context: ${context}\n",
      "\n",
      "Question: ${question}\n",
      "\n",
      "Reasoning: Let's think step by step in order to ${produce the answer}. We ...\n",
      "\n",
      "Answer: ${answer}\n",
      "\n",
      "---\n",
      "\n",
      "Context:\n",
      "[1] «1995 Monaco Grand Prix | The 1995 Monaco Grand Prix (formally the LIII Grand Prix de Monaco) was a Formula One motor race held on 28 May 1995 at the Circuit de Monaco, Monte Carlo, Monaco. It was the fifth round of the 1995 Formula One season. The 78-lap race was won by Michael Schumacher for the Benetton team after starting from second position. Damon Hill finished second for Williams after starting from pole position and leading the first 23 laps of the race, ahead of Gerhard Berger in a Ferrari car. The remaining points-scoring positions were filled by Johnny Herbert in the second Benetton, Mark Blundell (McLaren) and Heinz-Harald Frentzen (Sauber). Schumacher's win was his third of the season thus far and extended his lead in the World Drivers' Championship over Hill to five points. It was also Renault's first win in the Monaco Grand Prix, as Benetton's engine supplier.»\n",
      "[2] «2001 Monaco Grand Prix | The 2001 Monaco Grand Prix (formally the LIX Grand Prix de Monaco) was a Formula One motor race held at the Circuit de Monaco on 27 May 2001. It was the seventh race of the 2001 Formula One season. The 78-lap race was won by Michael Schumacher driving for the Ferrari team. Rubens Barrichello finished second in the other Ferrari with Eddie Irvine third for the Jaguar team. Schumacher's win was his fourth of season, and Irvine's third place was the first podium position for the Jaguar team.»\n",
      "[3] «1999 Monaco Grand Prix | The 1999 Monaco Grand Prix (formally the LVII Grand Prix Automobile de Monaco) was a Formula One motor race held on 16 May 1999 at the Circuit de Monaco in Monte Carlo, Monaco. It was the fourth race of the 1999 Formula One season. The 78-lap race was won by Ferrari driver Michael Schumacher after starting from second position. It was Schumacher's 16th win with Ferrari, breaking the record held by Niki Lauda. His team-mate Eddie Irvine finished second with Mika Häkkinen third for the McLaren team.»\n",
      "\n",
      "Question: Who purchased the team Michael Schumacher raced for in the 1995 Monaco Grand Prix in 2000?\n",
      "\n",
      "Reasoning: Let's think step by step in order to\u001b[32m produce the answer. Michael Schumacher raced for the Benetton team in the 1995 Monaco Grand Prix. In 2000, the Benetton team was purchased by Renault.\n",
      "\n",
      "Answer: Renault\u001b[0m\n",
      "\n",
      "\n",
      "\n"
     ]
    }
   ],
   "source": [
    "multihop_compiled(question=\"Who purchased the team Michael Schumacher raced for in the 1995 Monaco Grand Prix in 2000?\")\n",
    "turbo.inspect_history(n=1)"
   ]
  },
  {
   "cell_type": "code",
   "execution_count": null,
   "metadata": {},
   "outputs": [],
   "source": []
  }
 ],
 "metadata": {
  "kernelspec": {
   "display_name": "py39_aug2023_dspy",
   "language": "python",
   "name": "python3"
  },
  "language_info": {
   "codemirror_mode": {
    "name": "ipython",
    "version": 3
   },
   "file_extension": ".py",
   "mimetype": "text/x-python",
   "name": "python",
   "nbconvert_exporter": "python",
   "pygments_lexer": "ipython3",
   "version": "3.10.11"
  },
  "orig_nbformat": 4
 },
 "nbformat": 4,
 "nbformat_minor": 2
}
